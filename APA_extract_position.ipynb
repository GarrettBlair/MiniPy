{
 "cells": [
  {
   "cell_type": "code",
   "execution_count": 1,
   "id": "8b86a0bd",
   "metadata": {},
   "outputs": [],
   "source": [
    "from tifffile import imread\n",
    "import matplotlib.pyplot as plt\n",
    "import numpy as np\n",
    "from scipy import ndimage\n",
    "# import cv2\n",
    "%matplotlib notebook\n",
    "from mpl_toolkits import mplot3d\n",
    "import scipy.signal as scps\n",
    "import pandas as pd\n",
    "from miniscope_tiffs import scroll_images, get_all_CropROIs, GetMiniscopeDirs\n",
    "import copy\n",
    "import pandas\n",
    "import os\n",
    "import glob"
   ]
  },
  {
   "cell_type": "code",
   "execution_count": 9,
   "id": "81fb9e98",
   "metadata": {},
   "outputs": [
    {
     "data": {
      "text/plain": [
       "['C:/Users/gjb326/Desktop/RecordingData/GarrettBlair/APA_aquisition/Hipp16942/2022_06_10/18_25_10/',\n",
       " 'C:/Users/gjb326/Desktop/RecordingData/GarrettBlair/APA_aquisition/Hipp16942/2022_06_10/18_32_52/',\n",
       " 'C:/Users/gjb326/Desktop/RecordingData/GarrettBlair/APA_aquisition/Hipp16942/2022_06_10/18_44_02/',\n",
       " 'C:/Users/gjb326/Desktop/RecordingData/GarrettBlair/APA_aquisition/Hipp16942/2022_06_13/18_43_34/',\n",
       " 'C:/Users/gjb326/Desktop/RecordingData/GarrettBlair/APA_aquisition/Hipp16942/2022_06_13/19_04_07/',\n",
       " 'C:/Users/gjb326/Desktop/RecordingData/GarrettBlair/APA_aquisition/Hipp16942/2022_06_13/19_18_12/',\n",
       " 'C:/Users/gjb326/Desktop/RecordingData/GarrettBlair/APA_aquisition/Hipp16942/2022_06_14/20_00_14/',\n",
       " 'C:/Users/gjb326/Desktop/RecordingData/GarrettBlair/APA_aquisition/Hipp16942/2022_06_14/20_16_24/',\n",
       " 'C:/Users/gjb326/Desktop/RecordingData/GarrettBlair/APA_aquisition/Hipp16942/2022_06_14/20_21_33/',\n",
       " 'C:/Users/gjb326/Desktop/RecordingData/GarrettBlair/APA_aquisition/Hipp16942/2022_06_14/20_24_52/',\n",
       " 'C:/Users/gjb326/Desktop/RecordingData/GarrettBlair/APA_aquisition/Hipp16942/2022_06_18/16_44_33/',\n",
       " 'C:/Users/gjb326/Desktop/RecordingData/GarrettBlair/APA_aquisition/Hipp16942/2022_06_18/16_59_59/',\n",
       " 'C:/Users/gjb326/Desktop/RecordingData/GarrettBlair/APA_aquisition/Hipp16942/2022_06_20/17_24_27/',\n",
       " 'C:/Users/gjb326/Desktop/RecordingData/GarrettBlair/APA_aquisition/Hipp16942/2022_06_20/17_40_08/']"
      ]
     },
     "execution_count": 9,
     "metadata": {},
     "output_type": "execute_result"
    }
   ],
   "source": [
    "animals = ['Hipp16942'] # ['Hipp16941', 'Hipp16942', 'Hipp16943']\n",
    "topdir = 'C:/Users/gjb326/Desktop/RecordingData/GarrettBlair/APA_aquisition/'\n",
    "mini_name = 'msCam.tiff'\n",
    "behav_name = 'behavCam.tiff'\n",
    "onlytiff = True # or False or None\n",
    "\n",
    "\n",
    "thresh = 230 # luminance value tro consider (led >= thresh)\n",
    "min_size = 3 # minimum size to consider\n",
    "\n",
    "\n",
    "MiniFolders, BehavFolders, parentMiniFolders, parentBehavFolders = \\\n",
    "    GetMiniscopeDirs(topdir, animals, TiffDirsOnly=True, miniscope_tiff_name=mini_name, behavcam_tiff_name=behav_name)"
   ]
  },
  {
   "cell_type": "code",
   "execution_count": null,
   "id": "0c0dd298",
   "metadata": {},
   "outputs": [],
   "source": [
    "for sessDir in parentBehavFolders:\n",
    "    behavDir = str(sessDir + 'BehavCam/')\n",
    "    vidName = str(behavDir + 'behavCam.tiff')\n",
    "    outFileName = str(sessDir + 'position_data.csv')\n",
    "    timestampFile_bh = str(behavDir + 'timeStamps.csv')\n",
    "    timestampFile_ms = str(sessDir + 'MiniLFOV/timeStamps.csv')\n",
    "    \n",
    "    ms_dat = pd.read_csv(timestampFile_ms)\n",
    "    ms_t = ms_dat['Time Stamp (ms)']\n",
    "    beh_dat = pd.read_csv(timestampFile_bh)\n",
    "    beh_t = beh_dat['Time Stamp (ms)']\n",
    "    \n",
    "    bmat = imread(vidName)\n",
    "    frames, d1, d2 = bmat.shape\n",
    "    numFrames, h, w = bmat.shape\n",
    "    tds = np.round(len(beh_t)/numFrames).astype(int)\n",
    "    tds\n",
    "    beh_t = beh_t[::tds]\n",
    "    behav_dt = np.median(np.abs(np.diff(beh_t, n=1)))\n",
    "    behav_dt\n",
    "    behav_fps = np.round(1000/behav_dt)"
   ]
  },
  {
   "cell_type": "code",
   "execution_count": null,
   "id": "0ec9d693",
   "metadata": {},
   "outputs": [],
   "source": [
    "## LOAD THE VIDEO\n",
    "topdir = 'C:/Users/gjb326/Desktop/RecordingData/GarrettBlair/APA_aquisition/Hipp16942/2022_06_18/16_44_33/'\n",
    "behavDir = str(topdir + 'BehavCam/')\n",
    "# topdir.replace(\"\\\\\", \"/\")\n",
    "vidName = str(behavDir + 'behavCam.tiff')\n",
    "outFileName = str(behavDir + 'position_data.csv')\n",
    "timestampFile = str(behavDir + 'timeStamps.csv')\n",
    "\n",
    "bmat = imread(vidName)\n",
    "frames, d1, d2 = bmat.shape\n",
    "# bLin = bmat.reshape((frames, d1*d2))\n",
    "bg = np.max(bmat, axis=0).astype('u8')"
   ]
  },
  {
   "cell_type": "code",
   "execution_count": null,
   "id": "17f166b7",
   "metadata": {},
   "outputs": [],
   "source": [
    "t1 = str(topdir + 'MiniLFOV/timestamps.csv')\n",
    "t2 = str(topdir + 'BehavCam/timestamps.csv')\n",
    "ms_dat = pd.read_csv(t1)\n",
    "ms_t = ms_dat['Time Stamp (ms)']\n",
    "beh_dat = pd.read_csv(t2)\n",
    "beh_t = beh_dat['Time Stamp (ms)']\n",
    "\n",
    "numFrames, h, w = bmat.shape\n",
    "tds = np.round(len(beh_t)/numFrames).astype(int)\n",
    "tds\n",
    "beh_t = beh_t[::tds]\n",
    "behav_dt = np.median(np.abs(np.diff(beh_t, n=1)))\n",
    "behav_dt\n",
    "behav_fps = np.round(1000/behav_dt)\n"
   ]
  },
  {
   "cell_type": "code",
   "execution_count": null,
   "id": "0db85138",
   "metadata": {},
   "outputs": [],
   "source": [
    "behav_fps"
   ]
  },
  {
   "cell_type": "code",
   "execution_count": null,
   "id": "45ba49c9",
   "metadata": {},
   "outputs": [],
   "source": [
    "# Looking at different ways of determining threshold\n",
    "a999 = np.zeros([frames, 1])\n",
    "a90 = np.zeros([frames, 1])\n",
    "a95 = np.zeros([frames, 1])\n",
    "a99 = np.zeros([frames, 1])\n",
    "\n",
    "ind = 0\n",
    "for im in bmat:\n",
    "    v = im[im>0]\n",
    "    a999[ind] = np.quantile(v, q=.999)\n",
    "    a90[ind] = np.quantile(v, q=.9)\n",
    "    a95[ind] = np.quantile(v, q=.95)\n",
    "    a99[ind] = np.quantile(v, q=.99)\n",
    "    \n",
    "    ind = ind+1\n",
    "    \n",
    "plt.plot(a999)\n",
    "plt.plot(a99)\n",
    "plt.plot(a95)\n",
    "plt.plot(a90)"
   ]
  },
  {
   "cell_type": "code",
   "execution_count": null,
   "id": "4d020522",
   "metadata": {},
   "outputs": [],
   "source": [
    "\n",
    "scroll_images(bmat)\n"
   ]
  },
  {
   "cell_type": "markdown",
   "id": "4bf398f0",
   "metadata": {},
   "source": [
    "## Parameters"
   ]
  },
  {
   "cell_type": "code",
   "execution_count": null,
   "id": "fe74559a",
   "metadata": {},
   "outputs": [],
   "source": [
    "thresh = 230 # luminance value tro consider (led >= thresh)\n",
    "min_size = 3 # minimum size to consider"
   ]
  },
  {
   "cell_type": "code",
   "execution_count": null,
   "id": "ab22d9e4",
   "metadata": {},
   "outputs": [],
   "source": [
    "video_name = '' # expression labelling miniscope avi files, such as 'msCam' (if 'msCam1.avi', 'msCam2.avi',...)\n",
    "                # or '' (if '0.avi', '1.avi', etc). Starts at the lowest and goes to the highest\n",
    "crop_shape = 'circle' #'sq' # 'rect' # 'circle', 'rectangle', or 'square'. For no cropping: crop_shape=[]\n",
    "verbose = False # more or less print details\n",
    "\n",
    "cropROIs, maskROIs  = get_all_CropROIs([behavDir], avi_names=video_name, shape=crop_shape, verbose=verbose)"
   ]
  },
  {
   "cell_type": "code",
   "execution_count": null,
   "id": "fbaa2006",
   "metadata": {},
   "outputs": [],
   "source": [
    "numframes, h, w = bmat.shape\n",
    "circleDef = maskROIs[behavDir]\n",
    "center = circleDef[0]\n",
    "radius = circleDef[1]\n",
    "Y, X = np.ogrid[:h, :w]\n",
    "# dist_from_center = np.sqrt((X - center[0]+cropROI[0][0])**2 + (Y-center[1]+cropROI[0][1])**2)\n",
    "dist_from_center = np.sqrt((X - center[0])**2 + (Y-center[1])**2)\n",
    "outer_mask = dist_from_center > radius\n",
    "\n",
    "# doesnt rotate properly\n",
    "# outer_mask = list(zip(*outer_mask[::-1]))\n",
    "# outer_mask = list(zip(*outer_mask[::-1]))\n",
    "outer_mask"
   ]
  },
  {
   "cell_type": "code",
   "execution_count": null,
   "id": "79cef2b8",
   "metadata": {},
   "outputs": [],
   "source": [
    "im\n",
    "# mrthod from https://stackoverflow.com/questions/8421337/rotating-a-two-dimensional-array-in-python\n",
    "imt1 = list(zip(*im[::-1]))\n",
    "imt2 = list(zip(*imt1[::-1]))\n",
    "## SHOULD ROTATE 180 TO ALIGN WITH BSG CAM\n",
    "\n",
    "imrot = np.hstack((im, imt1, imt2))\n",
    "plt.figure()\n",
    "plt.imshow(imrot)"
   ]
  },
  {
   "cell_type": "code",
   "execution_count": 12,
   "id": "868c9972",
   "metadata": {},
   "outputs": [],
   "source": [
    "def extract_pos_APA(bmat, thresh=255, min_size=10, outer_mask=None):\n",
    "    x = np.zeros(frames) # column index\n",
    "    y = np.zeros(frames) # row index\n",
    "    arena_x = np.zeros(frames) # column index\n",
    "    arena_y = np.zeros(frames) # row index\n",
    "    ind = 0\n",
    "    frames, h, w = bmat.shape\n",
    "    if outer_mask is None:\n",
    "        outer_mask = np.ones((h, w), dtype='uint8')\n",
    "    for im in bmat:\n",
    "        # first mask the image by the threshold\n",
    "        imtemp = copy.deepcopy(im)\n",
    "        # I want to align it with the BSG caerma, 180 rotation\n",
    "    #     imtemp = list(zip(*imtemp[::-1])) # 90 degree rotation\n",
    "    #     imtemp = list(zip(*imtemp[::-1])) # 90 degree rotation\n",
    "\n",
    "        im_inside = copy.deepcopy(imtemp)\n",
    "        im_outside = copy.deepcopy(imtemp)\n",
    "        im_inside[outer_mask==1] = 0\n",
    "        im_outside[outer_mask==0] = 0\n",
    "\n",
    "        ## CALCULATE RAT LED POSITION\n",
    "        mask       = im_inside >= thresh\n",
    "        label_im, nb_labels = ndimage.label(mask)\n",
    "        # calculate various image properties of the remaining ROIs\n",
    "        sizes      = ndimage.sum(mask, label_im, range(nb_labels + 1))\n",
    "        max_vals   = ndimage.maximum(im, label_im, range(nb_labels + 1))\n",
    "        mean_vals  = ndimage.mean(im, label_im, range(nb_labels + 1))\n",
    "\n",
    "        # LED max and mean value must must the greatest of the ROIs\n",
    "        a = np.max(max_vals)==max_vals\n",
    "        b = np.max(mean_vals)==mean_vals\n",
    "        c = sizes>= min_size\n",
    "        if any(a==b): # testing that it has the max max and the max mean values\n",
    "            tempind = np.argwhere(a==b)\n",
    "            good_ind = tempind[0][0]\n",
    "            # LED size thresholding\n",
    "            if sizes[good_ind]>=min_size:\n",
    "                # extract the center of mass\n",
    "                com = ndimage.center_of_mass(mask, label_im, range(nb_labels + 1))\n",
    "                y[ind], x[ind] = com[good_ind]  \n",
    "\n",
    "        ## DO THE SAME FOR THE ARENA POSITION\n",
    "        mask       = im_outside >= thresh\n",
    "        label_im, nb_labels = ndimage.label(mask)\n",
    "        # calculate various image properties of the remaining ROIs\n",
    "        sizes      = ndimage.sum(mask, label_im, range(nb_labels + 1))\n",
    "        max_vals   = ndimage.maximum(im, label_im, range(nb_labels + 1))\n",
    "        mean_vals  = ndimage.mean(im, label_im, range(nb_labels + 1))\n",
    "\n",
    "        # LED max and mean value must must the greatest of the ROIs\n",
    "        a = np.max(max_vals)==max_vals\n",
    "        b = np.max(mean_vals)==mean_vals\n",
    "        c = sizes>= min_size\n",
    "        if any(a==b): # testing that it has the max max and the max mean values\n",
    "            tempind = np.argwhere(a==b)\n",
    "            good_ind = tempind[0][0]\n",
    "            # LED size thresholding\n",
    "            if sizes[good_ind]>=min_size:\n",
    "                # extract the center of mass\n",
    "                com = ndimage.center_of_mass(mask, label_im, range(nb_labels + 1))\n",
    "                arena_y[ind], arena_x[ind] = com[good_ind]  \n",
    "\n",
    "        ind = ind+1\n",
    "        return x, y, arena_x, arena_y"
   ]
  },
  {
   "cell_type": "code",
   "execution_count": null,
   "id": "e249881a",
   "metadata": {
    "scrolled": false
   },
   "outputs": [],
   "source": [
    "plt.figure()\n",
    "plt.subplot(2,1,1)\n",
    "plt.plot(np.arange(0,ind), arena_x[0:ind])\n",
    "plt.plot(np.arange(0,ind), arena_y[0:ind])\n",
    "\n",
    "\n",
    "plt.subplot(2,1,2)\n",
    "plt.plot(np.arange(0,ind), x[0:ind])\n",
    "plt.plot(np.arange(0,ind), y[0:ind])"
   ]
  },
  {
   "cell_type": "code",
   "execution_count": null,
   "id": "a818b3a5",
   "metadata": {},
   "outputs": [],
   "source": [
    "np.mod(smoothing_size,2)"
   ]
  },
  {
   "cell_type": "code",
   "execution_count": null,
   "id": "bc9b1103",
   "metadata": {},
   "outputs": [],
   "source": [
    "# half second smoothing size\n",
    "smoothing_size = np.round(behav_fps/2).astype('int')\n",
    "if np.mod(smoothing_size,2)==0:\n",
    "    smoothing_size = smoothing_size+1 # odd size for kernel\n",
    "    \n",
    "xi, yi, speed                   = interp_and_smooth(x,y,smoothing_size)\n",
    "arena_xi, arena_yi, arena_speed = interp_and_smooth(arena_x,arena_y,smoothing_size)\n",
    "\n",
    "# x1\n",
    "fig = plt.figure();\n",
    "# plt.plot(s);\n",
    "plt.subplot(2,1,1)\n",
    "plt.plot(x);\n",
    "plt.plot(y*-1);\n",
    "plt.plot(xi);\n",
    "plt.plot(yi*-1);\n",
    "\n",
    "plt.subplot(2,1,2)\n",
    "plt.plot(speed);\n",
    "\n",
    "# plt.plot(t[1::], xd);"
   ]
  },
  {
   "cell_type": "code",
   "execution_count": null,
   "id": "7c0905a9",
   "metadata": {},
   "outputs": [],
   "source": [
    "def interp_and_smooth(x,y,smoothing_size):\n",
    "    xi = x\n",
    "    yi = y\n",
    "\n",
    "    a = xi==0\n",
    "    b = yi==0\n",
    "    c = a==b\n",
    "    xq = np.where(a==c)\n",
    "\n",
    "    a = xi!=0\n",
    "    b = yi!=0\n",
    "    c = a==b\n",
    "    x0 = np.where(a==c)\n",
    "    xv = xi[x0]\n",
    "    yv = yi[x0]\n",
    "\n",
    "    x1 = np.interp(xq, x0[0], xv)\n",
    "    y1 = np.interp(xq, x0[0], yv)\n",
    "\n",
    "\n",
    "    xi[xq] = x1[0]\n",
    "    yi[xq] = y1[0]\n",
    "\n",
    "    xi = scps.medfilt(xi, kernel_size=smoothing_size)\n",
    "    yi = scps.medfilt(yi, kernel_size=smoothing_size)\n",
    "\n",
    "    xt = np.zeros(len(x)+1)\n",
    "    yt = np.zeros(len(y)+1)\n",
    "    xt[1::] = xi # increase size by one to account for diff\n",
    "    yt[1::] = yi # increase size by one to account for diff\n",
    "    xt[0] = xi[0]\n",
    "    yt[0] = yi[0]\n",
    "\n",
    "\n",
    "\n",
    "    xd = np.diff(xt, n=1)\n",
    "    yd = np.diff(yt, n=1)\n",
    "\n",
    "    speed = np.sqrt((xd**2 + yd**2))\n",
    "    return xi, yi, speed"
   ]
  },
  {
   "cell_type": "code",
   "execution_count": null,
   "id": "8ea162a0",
   "metadata": {
    "scrolled": false
   },
   "outputs": [],
   "source": [
    "\n",
    "\n",
    "fig = plt.figure()\n",
    "ax1 = plt.axes(projection='3d')\n",
    "# ax.scatter(x, y, beh_t, c='grey', s=2)\n",
    "# ax.scatter(xi, yi, beh_t, c='red', s=2)\n",
    "ax1.plot3D(arena_x, arena_y, beh_t, 'gray')\n",
    "\n",
    "# ax2 = plt.axes(projection='3d')\n",
    "ax1.plot3D(xi, yi, beh_t, 'r')\n",
    "\n"
   ]
  },
  {
   "cell_type": "code",
   "execution_count": null,
   "id": "28d4d6c7",
   "metadata": {},
   "outputs": [],
   "source": [
    "outFileName"
   ]
  },
  {
   "cell_type": "code",
   "execution_count": null,
   "id": "6d261a65",
   "metadata": {},
   "outputs": [],
   "source": [
    "# x = x.flatten(order='C')\n",
    "# y = y.flatten(order='C')\n",
    "behav_dt  = np.round(behav_dt).astype( 'uint16')\n",
    "behav_fps  = np.round(behav_fps).astype( 'uint16')\n",
    "timestamps  = np.round(beh_t).astype( 'uint16')\n",
    "x  = np.round(x).astype( 'uint16')\n",
    "xi = np.round(xi).astype('uint16')\n",
    "y  = np.round(y).astype( 'uint16')\n",
    "yi = np.round(yi).astype('uint16')\n",
    "speed  = speed.astype( 'float32')\n",
    "arena_x  = np.round(arena_x).astype( 'uint16')\n",
    "arena_xi = np.round(arena_xi).astype('uint16')\n",
    "arena_y  = np.round(arena_y).astype( 'uint16')\n",
    "arena_yi = np.round(arena_yi).astype('uint16')\n",
    "arena_speed  = arena_speed.astype( 'float32')\n",
    "\n",
    "D = {'x_raw':x, 'x':xi, 'y_raw':y, 'y':yi, 'speed':speed, \n",
    "     'arena_x_raw':arena_x, 'arena_x':arena_xi, 'arena_y_raw':arena_y, 'arena_y':arena_yi, 'arena_speed':arena_speed,\n",
    "    'behav_dt':behav_dt, 'behav_fps':behav_fps, 'timestamps':timestamps}\n",
    "DD = pd.DataFrame(D)\n",
    "DD"
   ]
  },
  {
   "cell_type": "code",
   "execution_count": null,
   "id": "7d3e8249",
   "metadata": {},
   "outputs": [],
   "source": [
    "\n",
    "DD.to_csv(outFileName)"
   ]
  },
  {
   "cell_type": "code",
   "execution_count": null,
   "id": "b1db483a",
   "metadata": {},
   "outputs": [],
   "source": [
    "im_all = None\n",
    "ind = 0\n",
    "for im in bmat:\n",
    "    # first mask the image by the threshold\n",
    "    imtemp = copy.deepcopy(im)\n",
    "    # I want to align it with the BSG caerma, 180 rotation\n",
    "#     imtemp = list(zip(*imtemp[::-1])) # 90 degree rotation\n",
    "#     imtemp = list(zip(*imtemp[::-1])) # 90 degree rotation\n",
    "    \n",
    "    im_inside = copy.deepcopy(imtemp)\n",
    "    im_outside = copy.deepcopy(imtemp)\n",
    "    im_inside[outer_mask] = 0\n",
    "    im_outside[outer_mask==False] = 0    \n",
    "    ## DO THE SAME FOR THE ARENA POSITION\n",
    "    mask       = im_outside >= thresh\n",
    "    label_im, nb_labels = ndimage.label(mask)\n",
    "    # calculate various image properties of the remaining ROIs\n",
    "    sizes      = ndimage.sum(mask, label_im, range(nb_labels + 1))\n",
    "    max_vals   = ndimage.maximum(im, label_im, range(nb_labels + 1))\n",
    "    mean_vals  = ndimage.mean(im, label_im, range(nb_labels + 1))\n",
    "    \n",
    "    # LED max and mean value must must the greatest of the ROIs\n",
    "    a = np.max(max_vals)==max_vals\n",
    "    b = np.max(mean_vals)==mean_vals\n",
    "    c = sizes>= min_size\n",
    "    if any(a==b): # testing that it has the max max and the max mean values\n",
    "        q = a==b\n",
    "        v = a==True\n",
    "        tempind = np.argwhere(q==v)\n",
    "        good_ind = tempind[0][0]\n",
    "        # LED size thresholding\n",
    "        if sizes[good_ind]>=min_size:\n",
    "            # extract the center of mass\n",
    "            com = ndimage.center_of_mass(mask, label_im, range(nb_labels + 1))\n",
    "            arena_y[ind], arena_x[ind] = com[good_ind]            \n",
    "            \n",
    "    imh = np.hstack((im, mask*255))\n",
    "    if im_all is None:\n",
    "        im_all  = np.empty([bmat.shape[0], im.shape[0], im.shape[1]*2], dtype=np.uint8)\n",
    "    im_all[ind] = imh\n",
    "    \n",
    "    \n",
    "    \n",
    "    ind = ind+1"
   ]
  },
  {
   "cell_type": "code",
   "execution_count": null,
   "id": "4f4b8a60",
   "metadata": {},
   "outputs": [],
   "source": [
    "plt.figure()\n",
    "plt.imshow(np.hstack((im, outer_mask*255)))"
   ]
  },
  {
   "cell_type": "code",
   "execution_count": null,
   "id": "102ab5f2",
   "metadata": {},
   "outputs": [],
   "source": [
    "scroll_images(im_all)"
   ]
  }
 ],
 "metadata": {
  "kernelspec": {
   "display_name": "Python 3 (ipykernel)",
   "language": "python",
   "name": "python3"
  },
  "language_info": {
   "codemirror_mode": {
    "name": "ipython",
    "version": 3
   },
   "file_extension": ".py",
   "mimetype": "text/x-python",
   "name": "python",
   "nbconvert_exporter": "python",
   "pygments_lexer": "ipython3",
   "version": "3.10.4"
  }
 },
 "nbformat": 4,
 "nbformat_minor": 5
}
