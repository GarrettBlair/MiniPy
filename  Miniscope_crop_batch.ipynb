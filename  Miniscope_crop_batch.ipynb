{
 "cells": [
  {
   "cell_type": "code",
   "execution_count": 1,
   "metadata": {
    "scrolled": true,
    "tags": []
   },
   "outputs": [],
   "source": [
    "from miniscope_tiffs import crop_and_convert_miniscope, get_all_CropROIs, getVideosInFolder, GetMiniscopeDirs\n",
    "import numpy as np\n",
    "import glob\n",
    "import os\n",
    "import cv2\n",
    "import scipy.io\n",
    "# import cv2 "
   ]
  },
  {
   "cell_type": "markdown",
   "metadata": {},
   "source": [
    "First we extract the directories with miniscope recordings and behav cam recordings.\n",
    "\n",
    "Setup the parameters so it knows what to look for and return\n",
    "Folder structures should look like the miniscope default, i.e.\n",
    "\n",
    "\n",
    "[topdir]/[animal]/[2022_dayfolder]/[sessionfolder]/[MiniLFOV or BehavCam]/\n",
    "\n",
    "You might need to change the had coded year and camera names based on your recordings\n"
   ]
  },
  {
   "cell_type": "code",
   "execution_count": 2,
   "metadata": {
    "scrolled": true
   },
   "outputs": [
    {
     "data": {
      "text/plain": [
       "['C:/Users/gjb326/Desktop/RecordingData/AlejandroGrau/TestMouse1/2022_05_07/17_09_41/']"
      ]
     },
     "execution_count": 2,
     "metadata": {},
     "output_type": "execute_result"
    }
   ],
   "source": [
    "# import this\n",
    "# animals = ['Hipp16942'] # ['Hipp16941', 'Hipp16942', 'Hipp16943']\n",
    "# topdir = 'C:/Users/gjb326/Desktop/RecordingData/GarrettBlair/APA_aquisition/'\n",
    "animals = ['TestMouse1']\n",
    "topdir = 'C:/Users/gjb326/Desktop/RecordingData/AlejandroGrau/'\n",
    "    \n",
    "miniscope_tiff_name = 'msCam.tiff'\n",
    "behavcam_tiff_name = 'behavCam.tiff'\n",
    "HasTiff = None\n",
    "\n",
    "allMiniFolders, allBehavFolders, parentMiniFolders, parentBehavFolders = \\\n",
    "    GetMiniscopeDirs(topdir, animals, TiffDirsOnly=HasTiff, miniscope_tiff_name=miniscope_tiff_name, behavcam_tiff_name=behavcam_tiff_name)\n",
    "\n",
    "parentMiniFolders\n"
   ]
  },
  {
   "cell_type": "code",
   "execution_count": null,
   "metadata": {},
   "outputs": [],
   "source": [
    "animals = ['Hipp16942'] # ['Hipp16941', 'Hipp16942', 'Hipp16943']\n",
    "topdir = 'C:/Users/gjb326/Desktop/RecordingData/GarrettBlair/APA_aquisition/'\n",
    "HasTiff = None\n",
    "allMiniFolders, allBehavFolders, parentMiniFolders, parentBehavFolders = \\\n",
    "    GetMiniscopeDirs(topdir, animals, TiffDirsOnly=None, miniscope_tiff_name='', behavcam_tiff_name='')\n",
    "\n",
    "parentMiniFolders"
   ]
  },
  {
   "cell_type": "code",
   "execution_count": null,
   "metadata": {},
   "outputs": [],
   "source": [
    "## Optional way to make a csv file list all of the session directories\n",
    "makeDirFile = False\n",
    "if makeDirFile:\n",
    "    delimiter = '&&'\n",
    "    import csv\n",
    "    for animal in animals:\n",
    "        allMiniFolders, allBehavFolders, parentMiniFolders, parentBehavFolders = \\\n",
    "            GetMiniscopeDirs(topdir, [animal], TiffDirsOnly=None, miniscope_tiff_name='', behavcam_tiff_name='')\n",
    "        parentMiniFolders\n",
    "        fname = str(topdir + animal + '/' + animal + '_directory_list.csv')\n",
    "        with open(fname, 'w') as f:\n",
    "            # using csv.writer method from CSV package\n",
    "            write = csv.writer(f)\n",
    "            write.writerow([str('SessionDir' + delimiter)])\n",
    "            for subdir in parentMiniFolders:\n",
    "                write.writerow([str(subdir + delimiter)])"
   ]
  },
  {
   "cell_type": "code",
   "execution_count": 3,
   "metadata": {
    "scrolled": false
   },
   "outputs": [
    {
     "name": "stdout",
     "output_type": "stream",
     "text": [
      "     ~~~ Cropping 1 folders ~~~\n",
      "Cropping ROI:  [[116, 10], [585, 536]]\n",
      "C:/Users/gjb326/Desktop/RecordingData/AlejandroGrau/TestMouse1/2022_05_07/17_09_41/MiniLFOV\n",
      "Crop:  [[116, 10], [585, 536]]\n",
      "     ~~~ Combining  12 video in C:/Users/gjb326/Desktop/RecordingData/AlejandroGrau/TestMouse1/2022_05_07/17_09_41/MiniLFOV ~~~\n",
      "Starting C:/Users/gjb326/Desktop/RecordingData/AlejandroGrau/TestMouse1/2022_05_07/17_09_41/MiniLFOV/0.avi... \n",
      "     done - 1 of 12\n",
      "Starting C:/Users/gjb326/Desktop/RecordingData/AlejandroGrau/TestMouse1/2022_05_07/17_09_41/MiniLFOV/1.avi... \n",
      "     done - 2 of 12\n",
      "Starting C:/Users/gjb326/Desktop/RecordingData/AlejandroGrau/TestMouse1/2022_05_07/17_09_41/MiniLFOV/2.avi... \n",
      "     done - 3 of 12\n",
      "Starting C:/Users/gjb326/Desktop/RecordingData/AlejandroGrau/TestMouse1/2022_05_07/17_09_41/MiniLFOV/3.avi... \n",
      "     done - 4 of 12\n",
      "Starting C:/Users/gjb326/Desktop/RecordingData/AlejandroGrau/TestMouse1/2022_05_07/17_09_41/MiniLFOV/4.avi... \n",
      "     done - 5 of 12\n",
      "Starting C:/Users/gjb326/Desktop/RecordingData/AlejandroGrau/TestMouse1/2022_05_07/17_09_41/MiniLFOV/5.avi... \n",
      "     done - 6 of 12\n",
      "Starting C:/Users/gjb326/Desktop/RecordingData/AlejandroGrau/TestMouse1/2022_05_07/17_09_41/MiniLFOV/6.avi... \n",
      "     done - 7 of 12\n",
      "Starting C:/Users/gjb326/Desktop/RecordingData/AlejandroGrau/TestMouse1/2022_05_07/17_09_41/MiniLFOV/7.avi... \n",
      "     done - 8 of 12\n",
      "Starting C:/Users/gjb326/Desktop/RecordingData/AlejandroGrau/TestMouse1/2022_05_07/17_09_41/MiniLFOV/8.avi... \n",
      "     done - 9 of 12\n",
      "Starting C:/Users/gjb326/Desktop/RecordingData/AlejandroGrau/TestMouse1/2022_05_07/17_09_41/MiniLFOV/9.avi... \n",
      "     done - 10 of 12\n",
      "Starting C:/Users/gjb326/Desktop/RecordingData/AlejandroGrau/TestMouse1/2022_05_07/17_09_41/MiniLFOV/10.avi... \n",
      "     done - 11 of 12\n",
      "Starting C:/Users/gjb326/Desktop/RecordingData/AlejandroGrau/TestMouse1/2022_05_07/17_09_41/MiniLFOV/11.avi... \n",
      "     done - 12 of 12\n",
      "Parameters saved to:  C:/Users/gjb326/Desktop/RecordingData/AlejandroGrau/TestMouse1/2022_05_07/17_09_41/MiniLFOV\\Crop_params.mat\n",
      "Done! Movie saved to:  C:/Users/gjb326/Desktop/RecordingData/AlejandroGrau/TestMouse1/2022_05_07/17_09_41/MiniLFOV/msCam.tiff\n"
     ]
    }
   ],
   "source": [
    "# miniscopeFolders = allMiniFolders\n",
    "# check out pathlib library for / \\ probs\n",
    "## PARAMETERS\n",
    "ksize = 3 # recommend a small filter, 3 pixels usually\n",
    "kern = np.ones([ksize,ksize]) # small median filter to remove salt and pepper\n",
    "s_ds = 1 # spatial  down sample\n",
    "t_ds = 2 # temporal down sample\n",
    "\n",
    "video_name = '' # expression labelling miniscope avi files, such as 'msCam' (if 'msCam1.avi', 'msCam2.avi',...)\n",
    "                # or '' (if '0.avi', '1.avi', etc). Starts at the lowest and goes to the highest\n",
    "\n",
    "# use_prev_crop = True\n",
    "tiff_name = miniscope_tiff_name\n",
    "crop_shape = 'rect' # 'rect' # 'rect' # 'circle', 'rectangle', or 'square'. For no cropping: crop_shape=[]\n",
    "use_mask = False # if cropping with a circle, can mask out the area outside of the circle\n",
    "verbose = True # more or less print details\n",
    "# if you use circle but don't want the masking, just use square instead\n",
    "\n",
    "# Get the crop ROIs for each folder, store in a dictionary 'crop_ROIs'\n",
    "# mask_ROIs is a dict of circular masks if you want to use circle and mask out the periphery\n",
    "if (crop_shape != None) and (crop_shape != 'prev'):\n",
    "    cropROIs, maskROIs  = get_all_CropROIs(allMiniFolders, avi_names=video_name, shape=crop_shape, verbose=verbose)\n",
    "    \n",
    "# if True:    \n",
    "# for i in np.arange(1, len(allMiniFolders)):\n",
    "for subFolder in allMiniFolders:# in range(0, len(miniscopeFolders)):\n",
    "#     subFolder = allMiniFolders[0]\n",
    "#     tiffOut = str(subFolder + '/' + tiff_name)\n",
    "    if crop_shape == 'prev': # os.path.isfile(prevCrop) and use_prev_crop:\n",
    "        prevCrop = str(subFolder + '/Crop_params.mat')\n",
    "        try:\n",
    "            temp = scipy.io.loadmat(prevCrop)\n",
    "            crop = temp['cropROI']\n",
    "            print('Using previous crop file:')\n",
    "            print('     -  ' + prevCrop)\n",
    "            print(str(crop))\n",
    "        except ValueError:\n",
    "                print('Prev crop file not found!')\n",
    "    elif crop_shape != None: \n",
    "        crop = cropROIs[subFolder]\n",
    "    else:\n",
    "        crop = None\n",
    "    \n",
    "    print('Crop:  ' + str(crop))\n",
    "    \n",
    "    if use_mask: mask=maskROIs[subFolder]\n",
    "    else: mask=None\n",
    "    # Now do the actual combining and cropping \n",
    "    crop_and_convert_miniscope(dataFolder=subFolder, tiff_name=tiff_name, avi_names=video_name,\n",
    "            cropROI=crop, circleDef=mask, spatialDownSample=s_ds, temporalDownSample=t_ds,\n",
    "            frame_filter=kern, verbose=verbose)"
   ]
  },
  {
   "cell_type": "code",
   "execution_count": null,
   "metadata": {},
   "outputs": [],
   "source": [
    " allBehavFolders"
   ]
  },
  {
   "cell_type": "code",
   "execution_count": null,
   "metadata": {
    "scrolled": true
   },
   "outputs": [],
   "source": [
    "# behavFolders = [r'C:\\Users\\gjb326\\Desktop\\RecordingData\\GarrettBlair\\APA_aquisition\\Hipp16941\\2022_06_10\\17_09_18\\BehavCam']\n",
    "                   \n",
    "# check out pathlib library for / \\ probs\n",
    "## PARAMETERS\n",
    "ksize = 3 # recommend a small filter, 3 pixels usually\n",
    "kern = np.ones([ksize,ksize]) # small median filter to remove salt and pepper\n",
    "s_ds = 2 # spatial  down sample\n",
    "t_ds = 2 # temporal down sample\n",
    "\n",
    "video_name = '' # expression labelling miniscope avi files, such as 'msCam' (if 'msCam1.avi', 'msCam2.avi',...)\n",
    "                # or '' (if '0.avi', '1.avi', etc). Starts at the lowest and goes to the highest\n",
    "tiff_name = behavcam_tiff_name\n",
    "crop_shape = None #'sq' # 'rect' # 'circle', 'rectangle', or 'square'. For no cropping: crop_shape=[]\n",
    "use_mask = False # if cropping with a circle, can mask out the area outside of the circle\n",
    "verbose = True # more or less print details\n",
    "# if you use circle but don't want the masking, just use square instead\n",
    "\n",
    "# Get the crop ROIs for each folder, store in a dictionary 'crop_ROIs'\n",
    "# mask_ROIs is a dict of circular masks if you want to use circle and mask out the periphery\n",
    "if crop_shape != None:\n",
    "    cropROIs, maskROIs  = get_all_CropROIs(allBehavFolders, avi_names=video_name, shape=crop_shape, verbose=verbose)\n",
    "    cropROIs\n",
    "\n",
    "for subFolder in allBehavFolders:\n",
    "#     tiffOut = str(subFolder + '/' + tiff_name)\n",
    "    if crop_shape == 'prev': # os.path.isfile(prevCrop) and use_prev_crop:\n",
    "        prevCrop = str(subFolder + '/Crop_params.mat')\n",
    "        try:\n",
    "            temp = scipy.io.loadmat(prevCrop)\n",
    "            crop = temp['cropROI']\n",
    "            print('Using previous crop file:')\n",
    "            print('     -  ' + prevCrop)\n",
    "            print(str(crop))\n",
    "        except ValueError:\n",
    "                print('Prev crop file not found!')\n",
    "    elif crop_shape != None: \n",
    "        crop = cropROIs[subFolder]\n",
    "    else:\n",
    "        crop = None\n",
    "    \n",
    "    print('Crop:  ' + str(crop))\n",
    "    \n",
    "    if use_mask: mask=maskROIs[subFolder]\n",
    "    else: mask=None\n",
    "    # Now do the actual combining and cropping\n",
    "    crop_and_convert_miniscope(dataFolder=subFolder, tiff_name=tiff_name, avi_names=video_name,\n",
    "            cropROI=crop, circleDef=mask, spatialDownSample=s_ds, temporalDownSample=t_ds,\n",
    "            frame_filter=kern, verbose=verbose)"
   ]
  },
  {
   "cell_type": "markdown",
   "metadata": {},
   "source": [
    "## ~ Fin ~\n",
    "\n",
    "\n",
    "The rest is just a demo of how to playback imaging and behavior together"
   ]
  },
  {
   "cell_type": "code",
   "execution_count": null,
   "metadata": {},
   "outputs": [],
   "source": [
    "from tifffile import imwrite, imread\n",
    "import pandas as pd\n",
    "from miniscope_tiffs import scroll_images\n",
    "import numpy as np\n",
    "import cv2\n",
    "topdir = r'C:/Users/gjb326/Desktop/RecordingData/GarrettBlair/APA_aquisition/Hipp16942/2022_06_14/20_00_14/'\n",
    "t1 = str(topdir + '/MiniLFOV/timestamps.dat')\n",
    "f1 = str(topdir + '/MiniLFOV/msCam.tiff')\n",
    "f2 = str(topdir + '/BehavCam/behavCam.tiff')\n",
    "\n",
    "\n",
    "ms = imread(f1)\n",
    "bh = imread(f2)\n",
    "bg = np.mean(ms, axis=0) - 20"
   ]
  },
  {
   "cell_type": "code",
   "execution_count": null,
   "metadata": {},
   "outputs": [],
   "source": [
    "t1 = str(topdir + '/MiniLFOV/timestamps.csv')\n",
    "t2 = str(topdir + '/BehavCam/timestamps.csv')\n",
    "ms_dat = pd.read_csv(t1)\n",
    "ms_t = ms_dat['Time Stamp (ms)']\n",
    "beh_dat = pd.read_csv(t2)\n",
    "beh_t = beh_dat['Time Stamp (ms)']\n",
    "\n",
    "numFrames, h, w = bh.shape\n",
    "tds = np.round(len(beh_t)/numFrames).astype(int)\n",
    "tds\n",
    "beh_t = beh_t[::tds]\n",
    "\n",
    "numFrames, h, w = ms.shape\n",
    "tds = np.round(len(ms_t)/numFrames).astype(int)\n",
    "tds\n",
    "ms_t = ms_t[::tds]\n",
    "\n",
    "beh_frames = np.round(np.interp(ms_t, beh_t, np.arange(0, bh.shape[0]))).astype('int');\n",
    "# beh_frames = np.round(np.interp(beh_t, ms_t, np.arange(0, numFrames))).astype('int');\n",
    "beh_frames"
   ]
  },
  {
   "cell_type": "code",
   "execution_count": null,
   "metadata": {},
   "outputs": [],
   "source": [
    "# cv2.namedWindow(\"msFrame\")\n",
    "frate = 11\n",
    "numFrames, h, w = ms.shape\n",
    "\n",
    "msf = ms[0]\n",
    "scale_percent = 50 # percent of original size\n",
    "width = int(msf.shape[1] * scale_percent / 100)\n",
    "height = int(msf.shape[0] * scale_percent / 100)\n",
    "dim = (width, height)\n",
    "  \n",
    "im_all = None\n",
    "msframe2show = np.arange(0, numFrames)\n",
    "\n",
    "for i in msframe2show: # ms.shape[0]\n",
    "    msf = ms[i]\n",
    "    bhf = bh[beh_frames[i]]\n",
    "#     print('mstime: ' + str(ms_t.iloc[i]) + '     bhtime: ' + str(beh_t.iloc[beh_frames[i]]))\n",
    "    msdff = 4*(msf-bg)\n",
    "    msdff[msdff<0] = 0\n",
    "    msdff[msdff>255] = 255\n",
    "    msdff = msdff.astype('uint8')\n",
    "    \n",
    "    msf = cv2.resize(msf, dim, interpolation = cv2.INTER_AREA)\n",
    "    msdff = cv2.resize(msdff, dim, interpolation = cv2.INTER_AREA)\n",
    "    bhf = cv2.resize(bhf, dim, interpolation = cv2.INTER_AREA)\n",
    "    \n",
    "    im = np.hstack((msf, msdff, bhf))\n",
    "\n",
    "    if im_all is None:\n",
    "        im_all  = np.empty([len(msframe2show), msf.shape[0], msf.shape[1]*3], dtype=np.uint8)\n",
    "    im_all[i] = im\n",
    "    \n",
    "#     cv2.imshow('msFrame', im)\n",
    "#     key = cv2.waitKey(np.round(1000/frate).astype('int'))\n",
    "# #     key = cv2.waitKey(1)\n",
    "#     if key == 27:# if ESC is pressed, exit loop\n",
    "#         cv2.destroyAllWindows()\n",
    "#         break\n",
    "cv2.destroyAllWindows()"
   ]
  },
  {
   "cell_type": "code",
   "execution_count": null,
   "metadata": {
    "scrolled": true
   },
   "outputs": [],
   "source": [
    "scroll_images(im_all)"
   ]
  }
 ],
 "metadata": {
  "anaconda-cloud": {},
  "kernelspec": {
   "display_name": "Python 3 (ipykernel)",
   "language": "python",
   "name": "python3"
  },
  "language_info": {
   "codemirror_mode": {
    "name": "ipython",
    "version": 3
   },
   "file_extension": ".py",
   "mimetype": "text/x-python",
   "name": "python",
   "nbconvert_exporter": "python",
   "pygments_lexer": "ipython3",
   "version": "3.10.4"
  }
 },
 "nbformat": 4,
 "nbformat_minor": 4
}
