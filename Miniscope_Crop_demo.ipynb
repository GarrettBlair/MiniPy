{
 "cells": [
  {
   "cell_type": "code",
   "execution_count": 2,
   "metadata": {
    "scrolled": true,
    "tags": []
   },
   "outputs": [],
   "source": [
    "import os\n",
    "import numpy as np\n",
    "import cv2\n",
    "import scipy.io\n",
    "import csv\n",
    "from matplotlib import pyplot as plt\n",
    "from tifffile import imwrite, imread\n",
    "\n",
    "import scipy.ndimage as spim\n",
    "\n",
    "from MiniscopeProcessingPython import crop_and_convert_miniscope, get_all_CropROIs, getVideosInFolder, GetMiniscopeDirs\n",
    "from MiniscopeProcessingPython import combine_multi_folders, scroll_images, load_miniscope_avis, crop_and_convert_colorAVI\n",
    "\n",
    "%matplotlib qt"
   ]
  },
  {
   "cell_type": "markdown",
   "metadata": {},
   "source": [
    "First we extract the directories with miniscope recordings and behav cam recordings.\n",
    "\n",
    "Setup the parameters so it knows what to look for and return\n",
    "Folder structures should look like the miniscope default, i.e.\n",
    "\n",
    "\n",
    "[topdir]/[animal]/[202*_dayfolder]/[sessionfolder]/[MiniLFOV or BehavCam]/\n",
    "\n",
    "You might need to change the had coded year and camera names based on your recordings\n"
   ]
  },
  {
   "cell_type": "code",
   "execution_count": 11,
   "metadata": {
    "scrolled": true
   },
   "outputs": [
    {
     "name": "stdout",
     "output_type": "stream",
     "text": [
      "'G:/.shortcut-targets-by-id/1mQqRDGRSlffLsw4MnHKbIatTEeGRdoaY/miniscope_v4/Mov_Grid/A_baseline_6mov/camkII_mpfc/2023_09_12/15_49_27/My_V4_Miniscope',...\n",
      "'G:/.shortcut-targets-by-id/1mQqRDGRSlffLsw4MnHKbIatTEeGRdoaY/miniscope_v4/Mov_Grid/A_shocks_12mov/camkII_mpfc/2023_09_13/15_16_35/My_V4_Miniscope',...\n",
      "'G:/.shortcut-targets-by-id/1mQqRDGRSlffLsw4MnHKbIatTEeGRdoaY/miniscope_v4/Mov_Grid/A_retrieval_24mov/camkII_mpfc/2023_09_15/15_14_12/My_V4_Miniscope',...\n",
      "'G:/.shortcut-targets-by-id/1mQqRDGRSlffLsw4MnHKbIatTEeGRdoaY/miniscope_v4/Mov_Grid/B_baseline_6mov/camkII_mpfc/2023_09_12/16_16_30/My_V4_Miniscope',...\n",
      "'G:/.shortcut-targets-by-id/1mQqRDGRSlffLsw4MnHKbIatTEeGRdoaY/miniscope_v4/Mov_Grid/B_shocks_12mov/camkII_mpfc/2023_09_13/15_43_47/My_V4_Miniscope',...\n",
      "'G:/.shortcut-targets-by-id/1mQqRDGRSlffLsw4MnHKbIatTEeGRdoaY/miniscope_v4/Mov_Grid/B_retrieval_24mov/camkII_mpfc/2023_09_15/15_43_03/My_V4_Miniscope',...\n",
      "'G:/.shortcut-targets-by-id/1mQqRDGRSlffLsw4MnHKbIatTEeGRdoaY/miniscope_v4/Mov_Grid/C_baseline_6mov/camkII_mpfc/2023_09_12/16_42_31/My_V4_Miniscope',...\n",
      "'G:/.shortcut-targets-by-id/1mQqRDGRSlffLsw4MnHKbIatTEeGRdoaY/miniscope_v4/Mov_Grid/C_shocks_12mov/camkII_mpfc/2023_09_13/16_11_58/My_V4_Miniscope',...\n",
      "'G:/.shortcut-targets-by-id/1mQqRDGRSlffLsw4MnHKbIatTEeGRdoaY/miniscope_v4/Mov_Grid/C_retrieval_24mov/camkII_mpfc/2023_09_15/16_15_02/My_V4_Miniscope',...\n",
      "'G:/.shortcut-targets-by-id/1mQqRDGRSlffLsw4MnHKbIatTEeGRdoaY/miniscope_v4/Mov_Grid/D_baseline_6mov/camkII_mpfc/2023_09_25/16_11_42/My_V4_Miniscope',...\n",
      "'G:/.shortcut-targets-by-id/1mQqRDGRSlffLsw4MnHKbIatTEeGRdoaY/miniscope_v4/Mov_Grid/D_shocks_12mov/camkII_mpfc/2023_09_26/15_51_39/My_V4_Miniscope',...\n",
      "'G:/.shortcut-targets-by-id/1mQqRDGRSlffLsw4MnHKbIatTEeGRdoaY/miniscope_v4/Mov_Grid/D_retrieval_24mov/camkII_mpfc/2023_09_28/15_34_33/My_V4_Miniscope',...\n",
      "'G:/.shortcut-targets-by-id/1mQqRDGRSlffLsw4MnHKbIatTEeGRdoaY/miniscope_v4/Mov_Grid/E_baseline_6mov/camkII_mpfc/2023_09_25/16_42_58/My_V4_Miniscope',...\n",
      "'G:/.shortcut-targets-by-id/1mQqRDGRSlffLsw4MnHKbIatTEeGRdoaY/miniscope_v4/Mov_Grid/E_shocks_12mov/camkII_mpfc/2023_09_26/16_15_43/My_V4_Miniscope',...\n",
      "'G:/.shortcut-targets-by-id/1mQqRDGRSlffLsw4MnHKbIatTEeGRdoaY/miniscope_v4/Mov_Grid/E_retrieval_24mov/camkII_mpfc/2023_09_28/16_05_37/My_V4_Miniscope',...\n",
      "'G:/.shortcut-targets-by-id/1mQqRDGRSlffLsw4MnHKbIatTEeGRdoaY/miniscope_v4/Mov_Grid/F_baseline_6mov/camkII_mpfc/2023_09_12/17_07_17/My_V4_Miniscope',...\n",
      "'G:/.shortcut-targets-by-id/1mQqRDGRSlffLsw4MnHKbIatTEeGRdoaY/miniscope_v4/Mov_Grid/F_shocks_12mov/camkII_mpfc/2023_09_13/16_38_17/My_V4_Miniscope',...\n",
      "'G:/.shortcut-targets-by-id/1mQqRDGRSlffLsw4MnHKbIatTEeGRdoaY/miniscope_v4/Mov_Grid/F_retrieval_24mov/camkII_mpfc/2023_09_15/16_42_22/My_V4_Miniscope',...\n",
      "'G:/.shortcut-targets-by-id/1mQqRDGRSlffLsw4MnHKbIatTEeGRdoaY/miniscope_v4/Mov_Grid/G_baseline_6mov/camkII_mpfc/2023_09_25/17_08_13/My_V4_Miniscope',...\n",
      "'G:/.shortcut-targets-by-id/1mQqRDGRSlffLsw4MnHKbIatTEeGRdoaY/miniscope_v4/Mov_Grid/G_shocks_12mov/camkII_mpfc/2023_09_26/17_00_14/My_V4_Miniscope',...\n",
      "'G:/.shortcut-targets-by-id/1mQqRDGRSlffLsw4MnHKbIatTEeGRdoaY/miniscope_v4/Mov_Grid/G_retrieval_24mov/camkII_mpfc/2023_09_28/16_33_40/My_V4_Miniscope',...\n"
     ]
    }
   ],
   "source": [
    "\n",
    "topdir = 'G:/.shortcut-targets-by-id/1mQqRDGRSlffLsw4MnHKbIatTEeGRdoaY/miniscope_v4/Mov_Grid/'\n",
    "anames = ['A', 'B', 'C', 'D', 'E', 'F', 'G']\n",
    "# anames = ['B']\n",
    "exten = ['_baseline_6mov/camkII_mpfc', '_shocks_12mov/camkII_mpfc', '_retrieval_24mov/camkII_mpfc']\n",
    "animals = []\n",
    "for aLoop in anames:\n",
    "    for eLoop in exten:\n",
    "        animals.append(str(aLoop + eLoop))\n",
    "animals\n",
    "\n",
    "    \n",
    "miniscope_tiff_name = 'msCam.tiff' # output name of concatenated tiff file to check for\n",
    "behavcam_tiff_name = 'behavCam.tiff'\n",
    "\n",
    "# select folders that have/dont have tiff_name in them. Use None to ignore\n",
    "HasTiff = None # False, True, or None\n",
    "\n",
    "# This will output the folders\n",
    "MiniFolders, BehavFolders, parentMiniFolders, _ = \\\n",
    "    GetMiniscopeDirs(topdir, animals, TiffDirsOnly=HasTiff, miniscope_tiff_name=miniscope_tiff_name, behavcam_tiff_name=behavcam_tiff_name,\n",
    "                     scope_name='My_V4_Miniscope', behavcam_name='My_WebCam')\n",
    "\n",
    "for f in MiniFolders:\n",
    "    print(\"'\" + str(f) + \"',...\")\n"
   ]
  },
  {
   "cell_type": "markdown",
   "metadata": {},
   "source": [
    "## Next we want to take the multiple avi files and combine them to a single tiff file for analysis\n",
    "### If the data just needs to be combined and cropped - [multiple avis] > 'msCam.tiff'\n",
    "1. for each directory in 'MiniFolders', it will first concatenate all of the videos into one array\n",
    "2. each frame is filtered based on 'ksize'\n",
    "3. the array is cropped to the priovided ROI (see 'crop_shape' parameter)\n",
    "4. the  array is then downsampled spatially ('s_ds') and temporally ('t_ds')\n",
    "5. then saved to a tiff file, 'tiff_name'\n",
    "\n",
    "\n",
    "### If the data contains line noise, first we combine them with no filtering or downsampling \n",
    "[not demonstrated in this demo yet]\n",
    "### Logic will be as follows:\n",
    "1. combine the avis into a single unfiltered, undownsampled tiff file. \n",
    "            - [multiple avis] > 'noisey.tiff'\n",
    "2. use the periphery of the 'noisey.tiff' to remove the line noise (subtract the median of the rows)\n",
    "            - 'noisey.tiff'  >  msCam.tiff"
   ]
  },
  {
   "cell_type": "code",
   "execution_count": null,
   "metadata": {},
   "outputs": [],
   "source": [
    "# miniscopeFolders = allMiniFolders\n",
    "# check out pathlib library for / \\ probs\n",
    "## PARAMETERS\n",
    "ksize = 3 # recommend a small filter, 3 pixels usually, done before spatial downsample\n",
    "kern  = ksize # np.ones([ksize,ksize]) # small median filter to remove salt and pepper\n",
    "s_ds  = 2 # spatial/pixel down sample\n",
    "t_ds  = 1 # temporal/frame down sample\n",
    "\n",
    "video_name = '' # expression labelling miniscope avi files, such as 'msCam' (if 'msCam1.avi', 'msCam2.avi',...)\n",
    "                # or '' (if '0.avi', '1.avi', etc). Starts at the lowest and goes to the highest\n",
    "# v4 miniscope==''\n",
    "# v3 miniscope=='msCam'\n",
    "\n",
    "# use_prev_crop = True\n",
    "miniscope_tiff_name = 'msCam.tiff'\n",
    "tiff_name  = miniscope_tiff_name\n",
    "crop_shape = 'rect' # 'rect' # 'rect' # 'circle', 'rectangle', or 'square'. For no cropping: crop_shape=None\n",
    "use_mask   = False # if cropping with a circle, can mask out the area outside of the circle\n",
    "verbose    = True # more or less print details\n",
    "# if you use circle but don't want the masking, just use square instead\n",
    "\n",
    "# Get the crop ROIs for each folder, store in a dictionary 'crop_ROIs'\n",
    "# mask_ROIs is a dict of circular masks if you want to use circle and mask out the periphery\n",
    "HPC_MiniFolders\n",
    "if (crop_shape != None) and (crop_shape != 'prev'):\n",
    "    cropROIs, maskROIs  = get_all_CropROIs(HPC_MiniFolders, avi_names=video_name, shape=crop_shape, verbose=verbose)\n",
    "    \n",
    "for subFolder in HPC_MiniFolders:\n",
    "    if crop_shape != None: \n",
    "        crop = cropROIs[subFolder]\n",
    "    else:\n",
    "        crop = None\n",
    "    print('Crop:  ' + str(crop))\n",
    "    \n",
    "    if use_mask: mask=maskROIs[subFolder]\n",
    "    else: mask=None\n",
    "    # Now do the actual combining and cropping \n",
    "    crop_and_convert_miniscope(dataFolder=subFolder, tiff_name=tiff_name, avi_names=video_name,\n",
    "            cropROI=crop, circleDef=mask, spatialDownSample=s_ds, temporalDownSample=t_ds,\n",
    "            frame_filter_size=kern, verbose=verbose, multicore=True, dff=False)"
   ]
  },
  {
   "cell_type": "code",
   "execution_count": 5,
   "metadata": {
    "tags": []
   },
   "outputs": [],
   "source": [
    "# f = \"G:/.shortcut-targets-by-id/1mQqRDGRSlffLsw4MnHKbIatTEeGRdoaY/miniscope_v4/Mov_Grid/G_shocks_12mov/camkII_mpfc/2023_09_26/17_00_14/My_V4_Miniscope/msCam.tiff\"\n",
    "# f = \"G:/.shortcut-targets-by-id/1mQqRDGRSlffLsw4MnHKbIatTEeGRdoaY/miniscope_v4/Mov_Grid/G_shocks_12mov/camkII_mpfc/2023_09_26/17_00_14/My_V4_Miniscope/msCam_MC.tiff\"\n",
    "# f = f.replace('\\\\', '/')\n",
    "f = subFolder + '/' + tiff_name\n",
    "Y = imread(f)\n",
    "scroll_images(Y, resize_val=2) # press q to quit"
   ]
  },
  {
   "cell_type": "markdown",
   "metadata": {},
   "source": [
    "# Crop and combine HPC miniscope dirs"
   ]
  },
  {
   "cell_type": "markdown",
   "metadata": {},
   "source": [
    "## BEHAV CAM"
   ]
  },
  {
   "cell_type": "code",
   "execution_count": null,
   "metadata": {
    "scrolled": true,
    "tags": []
   },
   "outputs": [],
   "source": [
    "\n",
    "# check out pathlib library for / \\ probs\n",
    "## PARAMETERS\n",
    "ksize = 1 # recommend a small filter, 3 pixels usually, done before spatial downsample\n",
    "kern  = None # np.ones([ksize,ksize]) # small median filter to remove salt and pepper\n",
    "s_ds  = 1 # spatial  down sample\n",
    "t_ds  = 1 # temporal down sample\n",
    "\n",
    "video_name = '' # expression labelling miniscope avi files, such as 'msCam' (if 'msCam1.avi', 'msCam2.avi',...)\n",
    "                # or '' (if '0.avi', '1.avi', etc). Starts at the lowest and goes to the highest\n",
    "\n",
    "# use_prev_crop = True\n",
    "miniscope_tiff_name = 'behavCam.mp4' # 'test.tiff' will not save, for debugging\n",
    "tiff_name  = miniscope_tiff_name\n",
    "crop_shape = 'rect' # 'rect' # 'rect' # 'circle', 'rectangle', or 'square'. For no cropping: crop_shape=None\n",
    "\n",
    "use_mask   = False # if cropping with a circle, can mask out the area outside of the circle. Doesn't really work\n",
    "verbose    = True # more or less print details\n",
    "# if you use circle but don't want the masking, just use square instead\n",
    "\n",
    "# Get the crop ROIs for each folder, store in a dictionary 'crop_ROIs'\n",
    "# mask_ROIs is a dict of circular masks if you want to use circle and mask out the periphery\n",
    "HPC_MiniFolders\n",
    "if (crop_shape != None) and (crop_shape != 'prev'):\n",
    "    cropROIs, maskROIs  = get_all_CropROIs(BehavFolders, avi_names=video_name, shape=crop_shape, verbose=verbose)\n",
    "\n",
    "# Now use each crop and combine the videos per directory\n",
    "for subFolder in BehavFolders:\n",
    "    if crop_shape != None: \n",
    "        crop = cropROIs[subFolder]\n",
    "    else:\n",
    "        crop = None\n",
    "    print('Crop:  ' + str(crop))\n",
    "    \n",
    "    if use_mask: mask=maskROIs[subFolder]\n",
    "    else: mask=None\n",
    "    # Now do the actual combining and cropping \n",
    "    crop_and_convert_colorAVI(dataFolder=subFolder, aviOUT_name=tiff_name, avi_names=video_name,\n",
    "            cropROI=crop, circleDef=mask, spatialDownSample=s_ds, temporalDownSample=t_ds,\n",
    "            frame_filter_size=kern, verbose=verbose, multicore=False)"
   ]
  },
  {
   "cell_type": "markdown",
   "metadata": {},
   "source": [
    "## ~ Fin ~"
   ]
  }
 ],
 "metadata": {
  "anaconda-cloud": {},
  "kernelspec": {
   "display_name": "Python 3 (ipykernel)",
   "language": "python",
   "name": "python3"
  },
  "language_info": {
   "codemirror_mode": {
    "name": "ipython",
    "version": 3
   },
   "file_extension": ".py",
   "mimetype": "text/x-python",
   "name": "python",
   "nbconvert_exporter": "python",
   "pygments_lexer": "ipython3",
   "version": "3.9.16"
  }
 },
 "nbformat": 4,
 "nbformat_minor": 4
}
