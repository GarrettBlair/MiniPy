{
 "cells": [
  {
   "cell_type": "code",
   "execution_count": null,
   "metadata": {
    "scrolled": true,
    "tags": []
   },
   "outputs": [],
   "source": [
    "from miniscope_tiffs import crop_and_convert_miniscope, get_all_CropROIs, getVideosInFolder\n",
    "import numpy as np\n",
    "# import cv2 "
   ]
  },
  {
   "cell_type": "code",
   "execution_count": null,
   "metadata": {},
   "outputs": [],
   "source": [
    "# import this\n",
    "animals = ['Hipp16941', 'Hipp16942', 'Hipp16943']\n",
    "topdir = 'C:\\Users\\gjb326\\Desktop\\RecordingData\\GarrettBlair\\APA_aquisition\\'"
   ]
  },
  {
   "cell_type": "code",
   "execution_count": null,
   "metadata": {
    "scrolled": true
   },
   "outputs": [],
   "source": [
    "miniscopeFolders = [r'C:\\Users\\gjb326\\Desktop\\RecordingData\\GarrettBlair\\APA_aquisition\\Hipp16941\\2022_06_10\\17_09_18\\MiniLFOV']\n",
    "                   \n",
    "# check out pathlib library for / \\ probs\n",
    "## PARAMETERS\n",
    "ksize = 3 # recommend a small filter, 3 pixels usually\n",
    "kern = np.ones([ksize,ksize])/(ksize**2) # small mean filter to remove salt and pepper\n",
    "s_ds = 2 # spatial  down sample\n",
    "t_ds = 2 # temporal down sample\n",
    "\n",
    "video_name = '' # expression labelling miniscope avi files, such as 'msCam' (if 'msCam1.avi', 'msCam2.avi',...)\n",
    "                # or '' (if '0.avi', '1.avi', etc). Starts at the lowest and goes to the highest\n",
    "tiff_name = 'msCam.tiff'\n",
    "crop_shape = 'sq' # 'rect' # 'circle', 'rectangle', or 'square'. For no cropping: crop_shape=[]\n",
    "use_mask = False # if cropping with a circle, can mask out the area outside of the circle\n",
    "verbose = False # more or less print details\n",
    "# if you use circle but don't want the masking, just use square instead\n",
    "\n",
    "# Get the crop ROIs for each folder, store in a dictionary 'crop_ROIs'\n",
    "# mask_ROIs is a dict of circular masks if you want to use circle and mask out the periphery\n",
    "if crop_shape != None:\n",
    "    cropROIs, maskROIs  = get_all_CropROIs(miniscopeFolders, avi_names=video_name, shape=crop_shape, verbose=verbose)\n",
    "    cropROIs\n",
    "\n",
    "for subFolder in miniscopeFolders:# in range(0, len(miniscopeFolders)):\n",
    "#     dataFolder = miniscopeFolders[sessionLoop]\n",
    "    if crop_shape != None:\n",
    "        crop = cropROIs[subFolder] # can replace with frame size to avoid cropping \"([1, 1], [752, 480])\"\n",
    "    else:crop = []\n",
    "    \n",
    "    if use_mask: mask=maskROIs[subFolder]\n",
    "    else: mask=None\n",
    "    # Now do the actual combining and cropping \n",
    "    crop_and_convert_miniscope(dataFolder=subFolder, tiff_name=tiff_name, avi_names=video_name,\n",
    "            cropROI=crop, circleDef=mask, spatialDownSample=s_ds, temporalDownSample=t_ds,\n",
    "            frame_filter=kern, verbose=verbose)"
   ]
  },
  {
   "cell_type": "code",
   "execution_count": null,
   "metadata": {},
   "outputs": [],
   "source": [
    "behavFolders = [r'C:\\Users\\gjb326\\Desktop\\RecordingData\\GarrettBlair\\APA_aquisition\\Hipp16941\\2022_06_10\\17_09_18\\BehavCam']\n",
    "                   \n",
    "# check out pathlib library for / \\ probs\n",
    "## PARAMETERS\n",
    "ksize = 3 # recommend a small filter, 3 pixels usually\n",
    "kern = np.ones([ksize,ksize])/(ksize**2) # small mean filter to remove salt and pepper\n",
    "s_ds = 2 # spatial  down sample\n",
    "t_ds = 2 # temporal down sample\n",
    "\n",
    "video_name = '' # expression labelling miniscope avi files, such as 'msCam' (if 'msCam1.avi', 'msCam2.avi',...)\n",
    "                # or '' (if '0.avi', '1.avi', etc). Starts at the lowest and goes to the highest\n",
    "tiff_name = 'behavCam.tiff'\n",
    "crop_shape = []#'sq' # 'rect' # 'circle', 'rectangle', or 'square'. For no cropping: crop_shape=[]\n",
    "use_mask = False # if cropping with a circle, can mask out the area outside of the circle\n",
    "verbose = False # more or less print details\n",
    "# if you use circle but don't want the masking, just use square instead\n",
    "\n",
    "# Get the crop ROIs for each folder, store in a dictionary 'crop_ROIs'\n",
    "# mask_ROIs is a dict of circular masks if you want to use circle and mask out the periphery\n",
    "if crop_shape != None:\n",
    "    cropROIs, maskROIs  = get_all_CropROIs(behavFolders, avi_names=video_name, shape=crop_shape, verbose=verbose)\n",
    "    cropROIs\n",
    "\n",
    "for subFolder in behavFolders:# in range(0, len(miniscopeFolders)):\n",
    "#     dataFolder = miniscopeFolders[sessionLoop]\n",
    "    if crop_shape != None:\n",
    "        crop = cropROIs[subFolder] # can replace with frame size to avoid cropping \"([1, 1], [752, 480])\"\n",
    "    else:crop = []\n",
    "    \n",
    "    if use_mask: mask=maskROIs[subFolder]\n",
    "    else: mask=None\n",
    "    # Now do the actual combining and cropping\n",
    "    crop_and_convert_miniscope(dataFolder=subFolder, tiff_name=tiff_name, avi_names=video_name,\n",
    "            cropROI=crop, circleDef=mask, spatialDownSample=s_ds, temporalDownSample=t_ds,\n",
    "            frame_filter=kern, verbose=verbose)"
   ]
  },
  {
   "cell_type": "code",
   "execution_count": null,
   "metadata": {},
   "outputs": [],
   "source": []
  }
 ],
 "metadata": {
  "anaconda-cloud": {},
  "kernelspec": {
   "display_name": "Python 3 (ipykernel)",
   "language": "python",
   "name": "python3"
  },
  "language_info": {
   "codemirror_mode": {
    "name": "ipython",
    "version": 3
   },
   "file_extension": ".py",
   "mimetype": "text/x-python",
   "name": "python",
   "nbconvert_exporter": "python",
   "pygments_lexer": "ipython3",
   "version": "3.8.12"
  }
 },
 "nbformat": 4,
 "nbformat_minor": 4
}
