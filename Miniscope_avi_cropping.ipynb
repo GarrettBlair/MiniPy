{
 "cells": [
  {
   "cell_type": "code",
   "execution_count": null,
   "metadata": {
    "scrolled": true,
    "tags": []
   },
   "outputs": [],
   "source": [
    "from miniscope_tiffs import crop_and_convert_miniscope, get_all_CropROIs, getVideosInFolder\n",
    "import numpy as np\n",
    "# import cv2 "
   ]
  },
  {
   "cell_type": "code",
   "execution_count": null,
   "metadata": {
    "tags": []
   },
   "outputs": [],
   "source": [
    "miniscopeFolders = ['C:/Users/gjb326/Desktop/Sample Data/Minian movies']\n",
    "# example_folders = ['C:/Users/Data/session1data','C:/Users/Data/session2data','C:/Users/Data/session3data']\n",
    "\n",
    "# miniscopeFolders should be a list of folders to do, will make a separate tiff file for each folder\n",
    "# using the avi files in each folder"
   ]
  },
  {
   "cell_type": "code",
   "execution_count": null,
   "metadata": {},
   "outputs": [],
   "source": [
    "## PARAMETERS\n",
    "ksize = 3 # recommend a small filter, 3 pixels usually\n",
    "kern = np.ones([ksize,ksize])/(ksize**2) # small mean filter to remove salt and pepper\n",
    "s_ds = 1 # spatial  down sample\n",
    "t_ds = 1 # temporal down sample\n",
    "\n",
    "video_name = 'msCam' # expression labelling miniscope avi files, such as 'msCam' (if 'msCam1.avi', 'msCam2.avi',...)\n",
    "                # or '' (if '0.avi', '1.avi', etc). Starts at the lowest and goes to the highest\n",
    "tiff_name = 'msCam.tiff'\n",
    "crop_shape = 'rect' # 'circle', 'rectangle', or 'square'. For no cropping: crop_shape=[]\n",
    "use_mask = False # if cropping with a circle, can mask out the area outside of the circle\n",
    "verbose = True # more or less print details\n",
    "# if you use circle but don't want the masking, just use square instead"
   ]
  },
  {
   "cell_type": "code",
   "execution_count": null,
   "metadata": {},
   "outputs": [],
   "source": [
    "videoFiles, videoNumList, numVids = getVideosInFolder(miniscopeFolders[0], video_name)\n",
    "# This should list the video files you want to crop if you want to check\n",
    "videoFiles"
   ]
  },
  {
   "cell_type": "code",
   "execution_count": null,
   "metadata": {},
   "outputs": [],
   "source": [
    "# Get the crop ROIs for each folder, store in a dictionary 'crop_ROIs'\n",
    "# mask_ROIs is a dict of circular masks if you want to use circle and mask out the periphery\n",
    "cropROIs, maskROIs  = get_all_CropROIs(miniscopeFolders, avi_names=video_name, shape=crop_shape, verbose=verbose)\n",
    "\n",
    "cropROIs"
   ]
  },
  {
   "cell_type": "code",
   "execution_count": null,
   "metadata": {},
   "outputs": [],
   "source": [
    "for subFolder in miniscopeFolders:# in range(0, len(miniscopeFolders)):\n",
    "#     dataFolder = miniscopeFolders[sessionLoop]\n",
    "    if crop_shape != None:\n",
    "        crop = cropROIs[subFolder] # can replace with frame size to avoid cropping \"([1, 1], [752, 480])\"\n",
    "    else:crop = []\n",
    "    \n",
    "    if use_mask: mask=maskROIs[subFolder]\n",
    "    else: mask=None\n",
    "    # Now do the actual combining and cropping\n",
    "    crop_and_convert_miniscope(dataFolder=subFolder, tiff_name=tiff_name, avi_names=video_name,\n",
    "            cropROI=crop, circleDef=mask, spatialDownSample=s_ds, temporalDownSample=t_ds,\n",
    "            frame_filter=kern, verbose=verbose)"
   ]
  }
 ],
 "metadata": {
  "anaconda-cloud": {},
  "kernelspec": {
   "display_name": "Python 3 (ipykernel)",
   "language": "python",
   "name": "python3"
  },
  "language_info": {
   "codemirror_mode": {
    "name": "ipython",
    "version": 3
   },
   "file_extension": ".py",
   "mimetype": "text/x-python",
   "name": "python",
   "nbconvert_exporter": "python",
   "pygments_lexer": "ipython3",
   "version": "3.8.12"
  }
 },
 "nbformat": 4,
 "nbformat_minor": 4
}
